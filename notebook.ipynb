{
 "cells": [
  {
   "cell_type": "markdown",
   "metadata": {},
   "source": [
    "<h3 style='font-weight: bold'>Import necesary packages</h3>"
   ]
  },
  {
   "cell_type": "code",
   "execution_count": 1,
   "metadata": {},
   "outputs": [],
   "source": [
    "import os\n",
    "import string as st\n",
    "from dateutil import parser\n",
    "import matplotlib.image as mpimg\n",
    "import cv2\n",
    "from passporteye import read_mrz\n",
    "import json\n",
    "import easyocr\n",
    "import warnings\n",
    "warnings.filterwarnings('ignore')"
   ]
  },
  {
   "cell_type": "markdown",
   "metadata": {},
   "source": [
    "<h3 style='font-weight: bold'>Load easyOCR engine</h3>"
   ]
  },
  {
   "cell_type": "code",
   "execution_count": 2,
   "metadata": {},
   "outputs": [
    {
     "name": "stderr",
     "output_type": "stream",
     "text": [
      "Using CPU. Note: This module is much faster with a GPU.\n"
     ]
    }
   ],
   "source": [
    "# lOAD OCR ENGINE (easyOCR)\n",
    "reader=easyocr.Reader(lang_list=['en'], gpu=False)  # Enable gpu if available"
   ]
  },
  {
   "cell_type": "markdown",
   "metadata": {},
   "source": [
    "<h3 style='font-weight: bold'>Load country codes from <strong>country_codes.json</strong> file</h3>"
   ]
  },
  {
   "cell_type": "code",
   "execution_count": 3,
   "metadata": {},
   "outputs": [],
   "source": [
    "with open('country_codes.json') as f:\n",
    "    country_codes = json.load(f)"
   ]
  },
  {
   "cell_type": "markdown",
   "metadata": {},
   "source": [
    "<h3 style='font-weight: bold'>Define functions</h3>"
   ]
  },
  {
   "cell_type": "code",
   "execution_count": 13,
   "metadata": {},
   "outputs": [],
   "source": [
    "def parse_date(string, iob=True):\n",
    "    date = parser.parse(string, yearfirst=True).date() \n",
    "    return date.strftime('%d/%m/%Y')\n",
    "\n",
    "def clean(string):\n",
    "    return ''.join(i for i in string if i.isalnum()).upper()\n",
    "\n",
    "def get_country_name(country_code):\n",
    "    country_name = ''\n",
    "    for country in country_codes:\n",
    "        if country['alpha-3'] == country_code:\n",
    "            country_name = country['name']\n",
    "            return country_name.upper()\n",
    "    return country_code\n",
    "\n",
    "def get_sex(code):\n",
    "    if code in ['M', 'm', 'F', 'f']:\n",
    "        sex = code.upper() \n",
    "    elif code == '0':\n",
    "        sex = 'M'\n",
    "    else:\n",
    "        sex = 'F'\n",
    "    return sex\n",
    "\n",
    "def print_data(data):\n",
    "    for key in data.keys():\n",
    "        info = key.replace('_', ' ').capitalize()\n",
    "        print(f'{info}\\t:\\t{data[key]}')\n",
    "    return\n",
    "  \n",
    "def get_data(img_name):\n",
    "    \"\"\" Extract personal info from img_name\n",
    "\n",
    "    Args:\n",
    "        img_name (str or fp): name or path of the passport image\n",
    "\n",
    "    Returns:\n",
    "        dict: dictionary of extracted data with keys and corresponding values as follows:\n",
    "                surname         : surname\n",
    "                name            : name\n",
    "                sex             : sex\n",
    "                date_of_birth   : date of birth\n",
    "                nationality     : nationality\n",
    "                passport_type   : passport type\n",
    "                issuing_country : issuing country\n",
    "                expiration_date : expiration date\n",
    "                personal_number : personal number           \n",
    "    \"\"\"\n",
    "    \n",
    "    user_info = {}    \n",
    "    new_im_path = 'tmp.png'\n",
    "    im_path = './images/'+img_name\n",
    "    # Crop image to Machine Readable Zone(MRZ)\n",
    "    mrz = read_mrz(im_path, save_roi=True)\n",
    "\n",
    "    if mrz:\n",
    "        mpimg.imsave(new_im_path, mrz.aux['roi'], cmap='gray')\n",
    "    \n",
    "        img = cv2.imread(new_im_path)\n",
    "        img = cv2.resize(img, (1110, 140))\n",
    "        \n",
    "        allowlist = st.ascii_letters+st.digits+'< '\n",
    "        code = reader.readtext(img, paragraph=False, detail=0, allowlist=allowlist)\n",
    "        a, b = code[0].upper(), code[1].upper()\n",
    "        \n",
    "        if len(a) < 44:\n",
    "            a = a + '<'*(44 - len(a))\n",
    "        if len(b) < 44:\n",
    "                b = b + '<'*(44 - len(b))\n",
    "                \n",
    "        surname_names = a[5:44].split('<<', 1)\n",
    "        if len(surname_names) < 2:\n",
    "            surname_names += ['']\n",
    "        surname, names = surname_names\n",
    "        \n",
    "        user_info['name'] = names.replace('<', ' ').strip().upper()\n",
    "        user_info['surname'] = surname.replace('<', ' ').strip().upper()\n",
    "        user_info['sex'] = get_sex(clean(b[20]))\n",
    "        user_info['date_of_birth'] = parse_date(b[13:19])\n",
    "        user_info['nationality'] = get_country_name(clean(b[10:13]))\n",
    "        user_info['passport_type'] = clean(a[0:2])\n",
    "        user_info['passport_number']  = clean(b[0:9])\n",
    "        user_info['issuing_country'] = get_country_name(clean(a[2:5]))\n",
    "        user_info['expiration_date'] = parse_date(b[21:27])\n",
    "        user_info['personal_number'] = clean(b[28:42])\n",
    "        \n",
    "    else:\n",
    "        return print(f'Machine cannot read image {img_name}.')\n",
    "    \n",
    "    os.remove(new_im_path)\n",
    "    \n",
    "    return user_info"
   ]
  },
  {
   "cell_type": "markdown",
   "metadata": {},
   "source": [
    "<h3 style='font-weight: bold'>Examples</h3>"
   ]
  },
  {
   "cell_type": "code",
   "execution_count": 15,
   "metadata": {},
   "outputs": [
    {
     "name": "stdout",
     "output_type": "stream",
     "text": [
      "Name\t:\tGILBERT\n",
      "Surname\t:\tTEMGOUA DONKOO\n",
      "Sex\t:\tM\n",
      "Date of birth\t:\t09/04/1994\n",
      "Nationality\t:\tCAMEROON\n",
      "Passport type\t:\tPO\n",
      "Passport number\t:\t1225801\n",
      "Issuing country\t:\tCAMEROON\n",
      "Expiration date\t:\t06/05/2025\n",
      "Personal number\t:\tM0966473\n"
     ]
    }
   ],
   "source": [
    "img_name = 'passport_temgoua.png'\n",
    "data = get_data(img_name)\n",
    "print_data(data)"
   ]
  },
  {
   "cell_type": "code",
   "execution_count": 12,
   "metadata": {},
   "outputs": [
    {
     "name": "stdout",
     "output_type": "stream",
     "text": [
      "Name\t:\tMOHAMMED MUDASEER\n",
      "Surname\t:\t\n",
      "Sex\t:\tM\n",
      "Date of birth\t:\t04/04/1982\n",
      "Nationality\t:\tINDIA\n",
      "Passport type\t:\tP\n",
      "Passport number\t:\tH2908283\n",
      "Issuing country\t:\tINDIA\n",
      "Expiration date\t:\t09/02/2019\n",
      "Personal number\t:\t\n"
     ]
    }
   ],
   "source": [
    "img_name = 'passport_1.png'\n",
    "data1 = get_data(img_name)\n",
    "print_data(data1)"
   ]
  }
 ],
 "metadata": {
  "interpreter": {
   "hash": "ad2bdc8ecc057115af97d19610ffacc2b4e99fae6737bb82f5d7fb13d2f2c186"
  },
  "kernelspec": {
   "display_name": "Python 3.9.12 ('base')",
   "language": "python",
   "name": "python3"
  },
  "language_info": {
   "codemirror_mode": {
    "name": "ipython",
    "version": 3
   },
   "file_extension": ".py",
   "mimetype": "text/x-python",
   "name": "python",
   "nbconvert_exporter": "python",
   "pygments_lexer": "ipython3",
   "version": "3.9.12"
  },
  "orig_nbformat": 4
 },
 "nbformat": 4,
 "nbformat_minor": 2
}
